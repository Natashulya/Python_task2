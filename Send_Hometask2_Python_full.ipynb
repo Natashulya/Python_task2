{
 "cells": [
  {
   "cell_type": "code",
   "execution_count": 1,
   "id": "3bcfcdd6",
   "metadata": {},
   "outputs": [],
   "source": [
    "# Task_4"
   ]
  },
  {
   "cell_type": "code",
   "execution_count": 2,
   "id": "29a78c09",
   "metadata": {},
   "outputs": [
    {
     "name": "stdout",
     "output_type": "stream",
     "text": [
      "Thailand - 23.9 C\n",
      "Germany - 13.8 C\n",
      "Russia - 3.7 C\n",
      "Poland - 12.0 C\n"
     ]
    }
   ],
   "source": [
    "countries_temperature = [\n",
    "    ['Thailand', [75.2, 77, 78.8, 73.4, 68, 75.2, 77]],\n",
    "    ['Germany', [57.2, 55.4, 59, 59, 53.6]],\n",
    "    ['Russia', [35.6, 37.4, 39.2, 41, 42.8, 39.2, 35.6]],\n",
    "    ['Poland', [50, 50, 53.6, 57.2, 55.4, 55.4]]\n",
    "]\n",
    "\n",
    "for i in countries_temperature:\n",
    "    print(i[0], '-', round((sum(i[1]) / len(i[1]) - 32) / 1.8, 1), 'C')"
   ]
  },
  {
   "cell_type": "code",
   "execution_count": 11,
   "id": "d4010a32",
   "metadata": {},
   "outputs": [],
   "source": [
    "#Task_1 Variant 1 delete Middle letters"
   ]
  },
  {
   "cell_type": "code",
   "execution_count": 4,
   "id": "7555cb89",
   "metadata": {},
   "outputs": [
    {
     "name": "stdout",
     "output_type": "stream",
     "text": [
      "test\n",
      "tt\n"
     ]
    }
   ],
   "source": [
    "s = input()\n",
    "if len(s) % 2 == 0:\n",
    "    print(s[:len(s)//2-1] + s[len(s)//2+1:])\n",
    "else:\n",
    "    print(s[:len(s)//2] + s[len(s)//2+1:])"
   ]
  },
  {
   "cell_type": "code",
   "execution_count": 5,
   "id": "48e142f1",
   "metadata": {},
   "outputs": [
    {
     "name": "stdout",
     "output_type": "stream",
     "text": [
      "testing\n",
      "tesing\n"
     ]
    }
   ],
   "source": [
    "s = input()\n",
    "if len(s) % 2 == 0:\n",
    "    print(s[:len(s)//2-1] + s[len(s)//2+1:])\n",
    "else:\n",
    "    print(s[:len(s)//2] + s[len(s)//2+1:])"
   ]
  },
  {
   "cell_type": "code",
   "execution_count": 12,
   "id": "0c67ce20",
   "metadata": {},
   "outputs": [],
   "source": [
    "#Task1 Variant 2 Print Middle Letters"
   ]
  },
  {
   "cell_type": "code",
   "execution_count": 8,
   "id": "8cfd6dba",
   "metadata": {},
   "outputs": [
    {
     "name": "stdout",
     "output_type": "stream",
     "text": [
      "testing\n",
      "t\n"
     ]
    }
   ],
   "source": [
    "s = input()\n",
    "if len(s) % 2 == 0:\n",
    "    print(s[len(s)//2-1] + s[len(s)//2])\n",
    "else:\n",
    "    print(s[len(s)//2])"
   ]
  },
  {
   "cell_type": "code",
   "execution_count": 9,
   "id": "f6059371",
   "metadata": {},
   "outputs": [
    {
     "name": "stdout",
     "output_type": "stream",
     "text": [
      "test\n",
      "es\n"
     ]
    }
   ],
   "source": [
    "s = input()\n",
    "if len(s) % 2 == 0:\n",
    "    print(s[len(s)//2-1] + s[len(s)//2])\n",
    "else:\n",
    "    print(s[len(s)//2])"
   ]
  },
  {
   "cell_type": "code",
   "execution_count": 13,
   "id": "26020239",
   "metadata": {},
   "outputs": [],
   "source": [
    "#Task_2"
   ]
  },
  {
   "cell_type": "code",
   "execution_count": 1,
   "id": "0572ad43",
   "metadata": {},
   "outputs": [
    {
     "name": "stdout",
     "output_type": "stream",
     "text": [
      "5\n",
      "5\n",
      "5\n",
      "15\n",
      "10\n",
      "0\n",
      "40\n"
     ]
    }
   ],
   "source": [
    "print(sum(map(int, iter(input, \"0\"))))"
   ]
  },
  {
   "cell_type": "code",
   "execution_count": 2,
   "id": "4ce25691",
   "metadata": {},
   "outputs": [],
   "source": [
    "#Task_3"
   ]
  },
  {
   "cell_type": "code",
   "execution_count": 10,
   "id": "2a75193a",
   "metadata": {},
   "outputs": [
    {
     "name": "stdout",
     "output_type": "stream",
     "text": [
      "(['Peter', 'Alex', 'John', 'Arthur', 'Richard'], ['Kate', 'Lisa', 'Kira', 'Emma', 'Tina'])\n"
     ]
    }
   ],
   "source": [
    "g = [\"Peter\", \"Alex\", \"John\", \"Arthur\", \"Richard\"]\n",
    "sorted (g)\n",
    "b = [\"Kate\", \"Lisa\", \"Kira\", \"Emma\", \"Tina\"]\n",
    "sorted (b)\n",
    "gb = g,b\n",
    "print (gb)"
   ]
  },
  {
   "cell_type": "code",
   "execution_count": 13,
   "id": "033f2b1e",
   "metadata": {},
   "outputs": [
    {
     "name": "stdout",
     "output_type": "stream",
     "text": [
      "(['Peter', 'Alex', 'John', 'Arthur', 'Richard'], ['Kate', 'Lisa', 'Kira', 'Emma', 'Tina'])\n"
     ]
    }
   ],
   "source": [
    "g = [\"Peter\", \"Alex\", \"John\", \"Arthur\", \"Richard\"]\n",
    "sorted (g)\n",
    "b = [\"Kate\", \"Lisa\", \"Kira\", \"Emma\", \"Tina\"]\n",
    "sorted (b)\n",
    "gb = g,b\n",
    "if len(g) == len(b):\n",
    "    print (gb)\n",
    "else:\n",
    "    print (\"no match\")"
   ]
  },
  {
   "cell_type": "code",
   "execution_count": 14,
   "id": "a94f271b",
   "metadata": {},
   "outputs": [
    {
     "name": "stdout",
     "output_type": "stream",
     "text": [
      "no match\n"
     ]
    }
   ],
   "source": [
    "g = [\"Peter\", \"Alex\", \"Arthur\", \"Richard\"]\n",
    "sorted (g)\n",
    "b = [\"Kate\", \"Lisa\", \"Kira\", \"Emma\", \"Tina\"]\n",
    "sorted (b)\n",
    "gb = g,b\n",
    "if len(g) == len(b):\n",
    "    print (gb)\n",
    "else:\n",
    "    print (\"no match\")"
   ]
  },
  {
   "cell_type": "code",
   "execution_count": null,
   "id": "d8283f4f",
   "metadata": {},
   "outputs": [],
   "source": []
  }
 ],
 "metadata": {
  "kernelspec": {
   "display_name": "Python 3",
   "language": "python",
   "name": "python3"
  },
  "language_info": {
   "codemirror_mode": {
    "name": "ipython",
    "version": 3
   },
   "file_extension": ".py",
   "mimetype": "text/x-python",
   "name": "python",
   "nbconvert_exporter": "python",
   "pygments_lexer": "ipython3",
   "version": "3.8.8"
  }
 },
 "nbformat": 4,
 "nbformat_minor": 5
}
